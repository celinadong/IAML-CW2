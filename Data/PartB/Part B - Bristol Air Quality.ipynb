{
 "cells": [
  {
   "cell_type": "code",
   "execution_count": 1,
   "metadata": {},
   "outputs": [],
   "source": [
    "# Import packages\n",
    "%matplotlib inline\n",
    "\n",
    "import os\n",
    "import sys\n",
    "import sklearn\n",
    "import numpy as np\n",
    "import pandas as pd\n",
    "import matplotlib.pyplot as plt\n",
    "import seaborn as sns\n",
    "\n",
    "import warnings\n",
    "warnings.filterwarnings('ignore')"
   ]
  },
  {
   "cell_type": "markdown",
   "metadata": {},
   "source": [
    "# Question 4: (30 points) Exploratory Analysis"
   ]
  },
  {
   "cell_type": "code",
   "execution_count": 2,
   "metadata": {},
   "outputs": [],
   "source": [
    "# Load dataset\n",
    "bristol_air = pd.read_csv('BristolAir_Exploratory.csv', compression='bz2')"
   ]
  },
  {
   "cell_type": "code",
   "execution_count": 3,
   "metadata": {
    "scrolled": true
   },
   "outputs": [
    {
     "data": {
      "text/html": [
       "<div>\n",
       "<style scoped>\n",
       "    .dataframe tbody tr th:only-of-type {\n",
       "        vertical-align: middle;\n",
       "    }\n",
       "\n",
       "    .dataframe tbody tr th {\n",
       "        vertical-align: top;\n",
       "    }\n",
       "\n",
       "    .dataframe thead th {\n",
       "        text-align: right;\n",
       "    }\n",
       "</style>\n",
       "<table border=\"1\" class=\"dataframe\">\n",
       "  <thead>\n",
       "    <tr style=\"text-align: right;\">\n",
       "      <th></th>\n",
       "      <th>Date Time</th>\n",
       "      <th>NOx</th>\n",
       "      <th>NO2</th>\n",
       "      <th>NO</th>\n",
       "      <th>SiteID</th>\n",
       "      <th>Loc.Lat</th>\n",
       "      <th>Loc.Long</th>\n",
       "    </tr>\n",
       "  </thead>\n",
       "  <tbody>\n",
       "    <tr>\n",
       "      <th>0</th>\n",
       "      <td>2007-03-27 13:00:00+00:00</td>\n",
       "      <td>87.00</td>\n",
       "      <td>28.00</td>\n",
       "      <td>28.75</td>\n",
       "      <td>1</td>\n",
       "      <td>51.441747</td>\n",
       "      <td>-2.559956</td>\n",
       "    </tr>\n",
       "    <tr>\n",
       "      <th>1</th>\n",
       "      <td>2007-03-27 14:00:00+00:00</td>\n",
       "      <td>98.50</td>\n",
       "      <td>32.00</td>\n",
       "      <td>32.50</td>\n",
       "      <td>1</td>\n",
       "      <td>51.441747</td>\n",
       "      <td>-2.559956</td>\n",
       "    </tr>\n",
       "    <tr>\n",
       "      <th>2</th>\n",
       "      <td>2007-03-27 20:00:00+00:00</td>\n",
       "      <td>202.00</td>\n",
       "      <td>97.75</td>\n",
       "      <td>68.00</td>\n",
       "      <td>6</td>\n",
       "      <td>51.427864</td>\n",
       "      <td>-2.563742</td>\n",
       "    </tr>\n",
       "    <tr>\n",
       "      <th>3</th>\n",
       "      <td>2007-03-28 02:00:00+00:00</td>\n",
       "      <td>107.80</td>\n",
       "      <td>39.52</td>\n",
       "      <td>44.52</td>\n",
       "      <td>8</td>\n",
       "      <td>51.489993</td>\n",
       "      <td>-2.688779</td>\n",
       "    </tr>\n",
       "    <tr>\n",
       "      <th>4</th>\n",
       "      <td>2007-03-28 04:00:00+00:00</td>\n",
       "      <td>115.78</td>\n",
       "      <td>31.94</td>\n",
       "      <td>54.67</td>\n",
       "      <td>8</td>\n",
       "      <td>51.489993</td>\n",
       "      <td>-2.688779</td>\n",
       "    </tr>\n",
       "  </tbody>\n",
       "</table>\n",
       "</div>"
      ],
      "text/plain": [
       "                   Date Time     NOx    NO2     NO  SiteID    Loc.Lat  \\\n",
       "0  2007-03-27 13:00:00+00:00   87.00  28.00  28.75       1  51.441747   \n",
       "1  2007-03-27 14:00:00+00:00   98.50  32.00  32.50       1  51.441747   \n",
       "2  2007-03-27 20:00:00+00:00  202.00  97.75  68.00       6  51.427864   \n",
       "3  2007-03-28 02:00:00+00:00  107.80  39.52  44.52       8  51.489993   \n",
       "4  2007-03-28 04:00:00+00:00  115.78  31.94  54.67       8  51.489993   \n",
       "\n",
       "   Loc.Long  \n",
       "0 -2.559956  \n",
       "1 -2.559956  \n",
       "2 -2.563742  \n",
       "3 -2.688779  \n",
       "4 -2.688779  "
      ]
     },
     "execution_count": 3,
     "metadata": {},
     "output_type": "execute_result"
    }
   ],
   "source": [
    "bristol_air.head()"
   ]
  },
  {
   "cell_type": "markdown",
   "metadata": {},
   "source": [
    "## 4.1 (6 points)"
   ]
  },
  {
   "cell_type": "code",
   "execution_count": 4,
   "metadata": {},
   "outputs": [
    {
     "name": "stdout",
     "output_type": "stream",
     "text": [
      "Dataset shape: (1306758, 7)\n",
      "Number of instances: 1306758\n",
      "Number of attributes: 7\n"
     ]
    }
   ],
   "source": [
    "print(\"Dataset shape: {}\".format(bristol_air.shape))\n",
    "print(\"Number of instances: {}\".format(bristol_air.shape[0]))\n",
    "print(\"Number of attributes: {}\".format(bristol_air.shape[1]))"
   ]
  },
  {
   "cell_type": "code",
   "execution_count": 5,
   "metadata": {},
   "outputs": [
    {
     "data": {
      "text/html": [
       "<div>\n",
       "<style scoped>\n",
       "    .dataframe tbody tr th:only-of-type {\n",
       "        vertical-align: middle;\n",
       "    }\n",
       "\n",
       "    .dataframe tbody tr th {\n",
       "        vertical-align: top;\n",
       "    }\n",
       "\n",
       "    .dataframe thead th {\n",
       "        text-align: right;\n",
       "    }\n",
       "</style>\n",
       "<table border=\"1\" class=\"dataframe\">\n",
       "  <thead>\n",
       "    <tr style=\"text-align: right;\">\n",
       "      <th></th>\n",
       "      <th>NOx</th>\n",
       "      <th>NO2</th>\n",
       "      <th>NO</th>\n",
       "      <th>SiteID</th>\n",
       "      <th>Loc.Lat</th>\n",
       "      <th>Loc.Long</th>\n",
       "    </tr>\n",
       "  </thead>\n",
       "  <tbody>\n",
       "    <tr>\n",
       "      <th>count</th>\n",
       "      <td>1.191220e+06</td>\n",
       "      <td>1.188426e+06</td>\n",
       "      <td>1.197536e+06</td>\n",
       "      <td>1.306758e+06</td>\n",
       "      <td>1.306758e+06</td>\n",
       "      <td>1.306758e+06</td>\n",
       "    </tr>\n",
       "    <tr>\n",
       "      <th>mean</th>\n",
       "      <td>1.200819e+02</td>\n",
       "      <td>4.493445e+01</td>\n",
       "      <td>4.956930e+01</td>\n",
       "      <td>8.411554e+00</td>\n",
       "      <td>5.145213e+01</td>\n",
       "      <td>-2.580516e+00</td>\n",
       "    </tr>\n",
       "    <tr>\n",
       "      <th>std</th>\n",
       "      <td>1.428863e+02</td>\n",
       "      <td>3.183197e+01</td>\n",
       "      <td>7.645375e+01</td>\n",
       "      <td>5.329009e+00</td>\n",
       "      <td>1.607845e-02</td>\n",
       "      <td>2.738316e-02</td>\n",
       "    </tr>\n",
       "    <tr>\n",
       "      <th>min</th>\n",
       "      <td>-3.108000e+01</td>\n",
       "      <td>-6.669844e+00</td>\n",
       "      <td>-1.771000e+01</td>\n",
       "      <td>0.000000e+00</td>\n",
       "      <td>5.142786e+01</td>\n",
       "      <td>-2.688779e+00</td>\n",
       "    </tr>\n",
       "    <tr>\n",
       "      <th>25%</th>\n",
       "      <td>3.550000e+01</td>\n",
       "      <td>2.200000e+01</td>\n",
       "      <td>7.000000e+00</td>\n",
       "      <td>4.000000e+00</td>\n",
       "      <td>5.144175e+01</td>\n",
       "      <td>-2.592724e+00</td>\n",
       "    </tr>\n",
       "    <tr>\n",
       "      <th>50%</th>\n",
       "      <td>7.300000e+01</td>\n",
       "      <td>3.800000e+01</td>\n",
       "      <td>2.200000e+01</td>\n",
       "      <td>7.000000e+00</td>\n",
       "      <td>5.145543e+01</td>\n",
       "      <td>-2.582253e+00</td>\n",
       "    </tr>\n",
       "    <tr>\n",
       "      <th>75%</th>\n",
       "      <td>1.450000e+02</td>\n",
       "      <td>5.950000e+01</td>\n",
       "      <td>5.700000e+01</td>\n",
       "      <td>1.400000e+01</td>\n",
       "      <td>5.146067e+01</td>\n",
       "      <td>-2.562714e+00</td>\n",
       "    </tr>\n",
       "    <tr>\n",
       "      <th>max</th>\n",
       "      <td>2.164250e+03</td>\n",
       "      <td>5.765000e+02</td>\n",
       "      <td>1.231250e+03</td>\n",
       "      <td>1.700000e+01</td>\n",
       "      <td>5.148999e+01</td>\n",
       "      <td>-2.535230e+00</td>\n",
       "    </tr>\n",
       "  </tbody>\n",
       "</table>\n",
       "</div>"
      ],
      "text/plain": [
       "                NOx           NO2            NO        SiteID       Loc.Lat  \\\n",
       "count  1.191220e+06  1.188426e+06  1.197536e+06  1.306758e+06  1.306758e+06   \n",
       "mean   1.200819e+02  4.493445e+01  4.956930e+01  8.411554e+00  5.145213e+01   \n",
       "std    1.428863e+02  3.183197e+01  7.645375e+01  5.329009e+00  1.607845e-02   \n",
       "min   -3.108000e+01 -6.669844e+00 -1.771000e+01  0.000000e+00  5.142786e+01   \n",
       "25%    3.550000e+01  2.200000e+01  7.000000e+00  4.000000e+00  5.144175e+01   \n",
       "50%    7.300000e+01  3.800000e+01  2.200000e+01  7.000000e+00  5.145543e+01   \n",
       "75%    1.450000e+02  5.950000e+01  5.700000e+01  1.400000e+01  5.146067e+01   \n",
       "max    2.164250e+03  5.765000e+02  1.231250e+03  1.700000e+01  5.148999e+01   \n",
       "\n",
       "           Loc.Long  \n",
       "count  1.306758e+06  \n",
       "mean  -2.580516e+00  \n",
       "std    2.738316e-02  \n",
       "min   -2.688779e+00  \n",
       "25%   -2.592724e+00  \n",
       "50%   -2.582253e+00  \n",
       "75%   -2.562714e+00  \n",
       "max   -2.535230e+00  "
      ]
     },
     "execution_count": 5,
     "metadata": {},
     "output_type": "execute_result"
    }
   ],
   "source": [
    "bristol_air.describe()"
   ]
  },
  {
   "cell_type": "code",
   "execution_count": 6,
   "metadata": {},
   "outputs": [
    {
     "name": "stdout",
     "output_type": "stream",
     "text": [
      "<class 'pandas.core.frame.DataFrame'>\n",
      "RangeIndex: 1306758 entries, 0 to 1306757\n",
      "Data columns (total 7 columns):\n",
      "Date Time    1306758 non-null object\n",
      "NOx          1191220 non-null float64\n",
      "NO2          1188426 non-null float64\n",
      "NO           1197536 non-null float64\n",
      "SiteID       1306758 non-null int64\n",
      "Loc.Lat      1306758 non-null float64\n",
      "Loc.Long     1306758 non-null float64\n",
      "dtypes: float64(5), int64(1), object(1)\n",
      "memory usage: 69.8+ MB\n"
     ]
    }
   ],
   "source": [
    "bristol_air.info()"
   ]
  },
  {
   "cell_type": "markdown",
   "metadata": {},
   "source": [
    "The Bristol Air Exploratory dataset has 1,306,758 instances and 7 attributes"
   ]
  },
  {
   "cell_type": "code",
   "execution_count": null,
   "metadata": {},
   "outputs": [],
   "source": [
    "bristol_air.head()"
   ]
  },
  {
   "cell_type": "markdown",
   "metadata": {},
   "source": [
    "## 4.2 (6 points)"
   ]
  },
  {
   "cell_type": "code",
   "execution_count": null,
   "metadata": {},
   "outputs": [],
   "source": []
  },
  {
   "cell_type": "markdown",
   "metadata": {},
   "source": [
    "## 4.3 (4 points)"
   ]
  },
  {
   "cell_type": "code",
   "execution_count": null,
   "metadata": {},
   "outputs": [],
   "source": []
  },
  {
   "cell_type": "markdown",
   "metadata": {},
   "source": [
    "## 4.4 (3 points)"
   ]
  },
  {
   "cell_type": "code",
   "execution_count": null,
   "metadata": {},
   "outputs": [],
   "source": []
  },
  {
   "cell_type": "markdown",
   "metadata": {},
   "source": [
    "## 4.5 (2 points)"
   ]
  },
  {
   "cell_type": "code",
   "execution_count": null,
   "metadata": {},
   "outputs": [],
   "source": []
  },
  {
   "cell_type": "markdown",
   "metadata": {},
   "source": [
    "## 4.6 (5 points)"
   ]
  },
  {
   "cell_type": "code",
   "execution_count": null,
   "metadata": {},
   "outputs": [],
   "source": []
  },
  {
   "cell_type": "markdown",
   "metadata": {},
   "source": [
    "## 4.7 (4 points)"
   ]
  },
  {
   "cell_type": "code",
   "execution_count": null,
   "metadata": {},
   "outputs": [],
   "source": []
  },
  {
   "cell_type": "markdown",
   "metadata": {},
   "source": [
    "# Question 5: (19 points) Principal Component Analysis"
   ]
  },
  {
   "cell_type": "code",
   "execution_count": null,
   "metadata": {},
   "outputs": [],
   "source": []
  },
  {
   "cell_type": "markdown",
   "metadata": {},
   "source": [
    "## 5.1 (1 point)"
   ]
  },
  {
   "cell_type": "code",
   "execution_count": null,
   "metadata": {},
   "outputs": [],
   "source": []
  },
  {
   "cell_type": "markdown",
   "metadata": {},
   "source": [
    "## 5.2 (5 points)"
   ]
  },
  {
   "cell_type": "code",
   "execution_count": null,
   "metadata": {},
   "outputs": [],
   "source": []
  },
  {
   "cell_type": "markdown",
   "metadata": {},
   "source": [
    "## 5.3 (2 points)"
   ]
  },
  {
   "cell_type": "code",
   "execution_count": null,
   "metadata": {},
   "outputs": [],
   "source": []
  },
  {
   "cell_type": "markdown",
   "metadata": {},
   "source": [
    "## 5.4 (5 points)"
   ]
  },
  {
   "cell_type": "code",
   "execution_count": null,
   "metadata": {},
   "outputs": [],
   "source": []
  },
  {
   "cell_type": "markdown",
   "metadata": {},
   "source": [
    "## 5.5 (6 points)"
   ]
  },
  {
   "cell_type": "code",
   "execution_count": null,
   "metadata": {},
   "outputs": [],
   "source": []
  },
  {
   "cell_type": "markdown",
   "metadata": {},
   "source": [
    "# Question 6: (41 points) Regression"
   ]
  },
  {
   "cell_type": "code",
   "execution_count": null,
   "metadata": {},
   "outputs": [],
   "source": []
  },
  {
   "cell_type": "markdown",
   "metadata": {},
   "source": [
    "## 6.1 (2 points)"
   ]
  },
  {
   "cell_type": "code",
   "execution_count": null,
   "metadata": {},
   "outputs": [],
   "source": []
  },
  {
   "cell_type": "markdown",
   "metadata": {},
   "source": [
    "## 6.2 (4 points)"
   ]
  },
  {
   "cell_type": "code",
   "execution_count": null,
   "metadata": {},
   "outputs": [],
   "source": []
  },
  {
   "cell_type": "markdown",
   "metadata": {},
   "source": [
    "## 6.3 (3 points)"
   ]
  },
  {
   "cell_type": "code",
   "execution_count": null,
   "metadata": {},
   "outputs": [],
   "source": []
  },
  {
   "cell_type": "markdown",
   "metadata": {},
   "source": [
    "## 6.4 (5 points)"
   ]
  },
  {
   "cell_type": "code",
   "execution_count": null,
   "metadata": {},
   "outputs": [],
   "source": []
  },
  {
   "cell_type": "markdown",
   "metadata": {},
   "source": [
    "## 6.5 (5 points)"
   ]
  },
  {
   "cell_type": "code",
   "execution_count": null,
   "metadata": {},
   "outputs": [],
   "source": []
  },
  {
   "cell_type": "markdown",
   "metadata": {},
   "source": [
    "## 6.6 (5 points)"
   ]
  },
  {
   "cell_type": "code",
   "execution_count": null,
   "metadata": {},
   "outputs": [],
   "source": []
  },
  {
   "cell_type": "markdown",
   "metadata": {},
   "source": [
    "## 6.7 (4 points)"
   ]
  },
  {
   "cell_type": "code",
   "execution_count": null,
   "metadata": {},
   "outputs": [],
   "source": []
  },
  {
   "cell_type": "markdown",
   "metadata": {},
   "source": [
    "## 6.8 (1 point)"
   ]
  },
  {
   "cell_type": "code",
   "execution_count": null,
   "metadata": {},
   "outputs": [],
   "source": []
  },
  {
   "cell_type": "markdown",
   "metadata": {},
   "source": [
    "## 6.9 (4 points)"
   ]
  },
  {
   "cell_type": "code",
   "execution_count": null,
   "metadata": {},
   "outputs": [],
   "source": []
  },
  {
   "cell_type": "markdown",
   "metadata": {},
   "source": [
    "## 6.10 (3 points)"
   ]
  },
  {
   "cell_type": "code",
   "execution_count": null,
   "metadata": {},
   "outputs": [],
   "source": []
  },
  {
   "cell_type": "markdown",
   "metadata": {},
   "source": [
    "## 6.11 (5 points)"
   ]
  },
  {
   "cell_type": "code",
   "execution_count": null,
   "metadata": {},
   "outputs": [],
   "source": []
  }
 ],
 "metadata": {
  "kernelspec": {
   "display_name": "Python 3",
   "language": "python",
   "name": "python3"
  },
  "language_info": {
   "codemirror_mode": {
    "name": "ipython",
    "version": 3
   },
   "file_extension": ".py",
   "mimetype": "text/x-python",
   "name": "python",
   "nbconvert_exporter": "python",
   "pygments_lexer": "ipython3",
   "version": "3.7.1"
  }
 },
 "nbformat": 4,
 "nbformat_minor": 2
}
